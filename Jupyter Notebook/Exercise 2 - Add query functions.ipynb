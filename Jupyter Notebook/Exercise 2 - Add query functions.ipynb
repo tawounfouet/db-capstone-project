{
 "cells": [
  {
   "cell_type": "code",
   "execution_count": 6,
   "id": "778691ae-475b-4bb2-a172-c1610efd0e3b",
   "metadata": {},
   "outputs": [],
   "source": [
    "# Task 1:\n",
    "import mysql.connector as connector\n",
    "connection = connector.connect(user = \"coursera\", password = \"hoanglam\", db = \"LittleLemonDB\")\n",
    "cursor = connection.cursor()"
   ]
  },
  {
   "cell_type": "code",
   "execution_count": 8,
   "id": "bbe29d53-10e5-43a1-97ec-bfee2062047b",
   "metadata": {},
   "outputs": [
    {
     "name": "stdout",
     "output_type": "stream",
     "text": [
      "[('bookings',), ('customers',), ('delivery',), ('menu',), ('menuitems',), ('orders',), ('staffs',)]\n"
     ]
    }
   ],
   "source": [
    "# Task 2:\n",
    "show_tables_query = \"SHOW tables\" \n",
    "cursor.execute(show_tables_query)\n",
    "\n",
    "results = cursor.fetchall();\n",
    "print(results)"
   ]
  },
  {
   "cell_type": "code",
   "execution_count": 18,
   "id": "5b569e5e-1ba6-4b19-9c1e-4f0d0db8b442",
   "metadata": {},
   "outputs": [
    {
     "name": "stdout",
     "output_type": "stream",
     "text": [
      "('CustomerID', 'FullName', 'Email', 'ContactNumber')\n",
      "(1, 'Vanessa McCarthy', 'vaMcCar@gmail.com', '13456789')\n",
      "(2, 'Marcos Romero', 'marRo@gmail.com', '13456789')\n",
      "(4, 'Joakim Iversen', 'joIve@gmail.com', '13456789')\n",
      "(5, 'Hiroki Yamane', 'hiYama@gmail.com', '13456789')\n"
     ]
    }
   ],
   "source": [
    "# Task 3:\n",
    "query = \"\"\"\n",
    "select CustomerID, FullName, Email, ContactNumber\n",
    "from Customers inner join Bookings using (CustomerID)\n",
    "inner join Orders using (BookingID)\n",
    "where TotalCost > 60;\n",
    "\"\"\"\n",
    "cursor.execute(query)\n",
    "\n",
    "print(cursor.column_names)\n",
    "for customer in cursor:\n",
    "    print(customer);"
   ]
  },
  {
   "cell_type": "code",
   "execution_count": null,
   "id": "92503f3d-66c6-442e-ad8c-71a4e92f695a",
   "metadata": {},
   "outputs": [],
   "source": [
    "# Review Orders table to check result\n",
    "cursor.execute(\"select * from Orders\")\n",
    "print(cursor.column_names)\n",
    "for order in cursor:\n",
    "    print(order);"
   ]
  },
  {
   "cell_type": "code",
   "execution_count": null,
   "id": "eec6893f-ed3b-4c49-80e4-285a50f1de33",
   "metadata": {},
   "outputs": [],
   "source": []
  }
 ],
 "metadata": {
  "kernelspec": {
   "display_name": "Python 3 (ipykernel)",
   "language": "python",
   "name": "python3"
  },
  "language_info": {
   "codemirror_mode": {
    "name": "ipython",
    "version": 3
   },
   "file_extension": ".py",
   "mimetype": "text/x-python",
   "name": "python",
   "nbconvert_exporter": "python",
   "pygments_lexer": "ipython3",
   "version": "3.11.4"
  }
 },
 "nbformat": 4,
 "nbformat_minor": 5
}
